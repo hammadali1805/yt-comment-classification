{
  "cells": [
    {
      "cell_type": "code",
      "execution_count": 6,
      "metadata": {
        "id": "dHrvyLYn79m2"
      },
      "outputs": [],
      "source": [
        "import googleapiclient.discovery\n",
        "import pandas as pd\n",
        "\n",
        "dev = \"YOUR_YOUTUBE_DATA_API_HERE\"\n",
        "api_service_name = \"youtube\"\n",
        "api_version = \"v3\"\n",
        "DEVELOPER_KEY = dev\n",
        "\n",
        "youtube = googleapiclient.discovery.build(\n",
        "    api_service_name, api_version, developerKey=DEVELOPER_KEY)\n",
        "\n",
        "\n",
        "def getcomments(video):\n",
        "  request = youtube.commentThreads().list(\n",
        "      part=\"snippet\",\n",
        "      videoId=video,\n",
        "      maxResults=100\n",
        "  )\n",
        "\n",
        "  comments = []\n",
        "\n",
        "  # Execute the request.\n",
        "  response = request.execute()\n",
        "\n",
        "  # Get the comments from the response.\n",
        "  for item in response['items']:\n",
        "      comment = item['snippet']['topLevelComment']['snippet']\n",
        "      public = item['snippet']['isPublic']\n",
        "      comments.append([\n",
        "          comment['authorDisplayName'],\n",
        "          comment['publishedAt'],\n",
        "          comment['likeCount'],\n",
        "          comment['textOriginal'],\n",
        "          comment['videoId'],\n",
        "          public\n",
        "      ])\n",
        "\n",
        "  while (1 == 1):\n",
        "    try:\n",
        "     nextPageToken = response['nextPageToken']\n",
        "    except KeyError:\n",
        "     break\n",
        "    nextPageToken = response['nextPageToken']\n",
        "    # Create a new request object with the next page token.\n",
        "    nextRequest = youtube.commentThreads().list(part=\"snippet\", videoId=video, maxResults=100, pageToken=nextPageToken)\n",
        "    # Execute the next request.\n",
        "    response = nextRequest.execute()\n",
        "    # Get the comments from the next response.\n",
        "    for item in response['items']:\n",
        "      comment = item['snippet']['topLevelComment']['snippet']\n",
        "      public = item['snippet']['isPublic']\n",
        "      comments.append([\n",
        "          comment['authorDisplayName'],\n",
        "          comment['publishedAt'],\n",
        "          comment['likeCount'],\n",
        "          comment['textOriginal'],\n",
        "          comment['videoId'],\n",
        "          public\n",
        "      ])\n",
        "\n",
        "  df2 = pd.DataFrame(comments, columns=['author', 'updated_at', 'like_count', 'text','video_id','public'])\n",
        "  return df2"
      ]
    },
    {
      "cell_type": "code",
      "execution_count": 9,
      "metadata": {},
      "outputs": [
        {
          "name": "stdout",
          "output_type": "stream",
          "text": [
            "['enHai1y5Knc', 'QPAbml1pQ0Q', 'FS3L1k6lHXQ', 'XHDI47WFqe0', 'UPiFHzrWEgM', '1r6yLUKc8yc', 'nrF8gJUB60E', 'QYDf_NQEGUQ', 'bThgzcbe_-Q', 'Tr-TVt5JAWY', 'q27ZhmS6xMY', 'j9GohkxkjGk', '4ZuLUMWdtGI', 'CCWhTwyx-rc', '32zmAixXlZ0', 'k1me0PxMHug', 'O2LKzAdbgeA', 'kS2ydDhLaVw', 'bnah8aIb7CU', 'rXRN_8Wz5kk', 'qYqS5Ib7TxA', 'lol8Gv1g-uA', '_dn3yUfNZKU']\n"
          ]
        }
      ],
      "source": [
        "from pytube import Playlist\n",
        "\n",
        "# Replace with your playlist URL\n",
        "playlist_url = 'https://www.youtube.com/playlist?list=PLCzaIJYXP5Yf57bld-sUTSD2-aCEejZqb'\n",
        "\n",
        "# Create a Playlist object\n",
        "playlist = Playlist(playlist_url)\n",
        "\n",
        "urls = list(playlist.video_urls)\n",
        "ids = [x.removeprefix('https://www.youtube.com/watch?v=') for x in urls]\n",
        "print(ids)\n"
      ]
    },
    {
      "cell_type": "code",
      "execution_count": 10,
      "metadata": {
        "id": "RkO-h18o9aTR"
      },
      "outputs": [
        {
          "name": "stdout",
          "output_type": "stream",
          "text": [
            "0/23\n",
            "1/23\n",
            "2/23\n",
            "3/23\n",
            "4/23\n",
            "5/23\n",
            "6/23\n",
            "7/23\n",
            "8/23\n",
            "9/23\n",
            "10/23\n",
            "11/23\n",
            "12/23\n",
            "13/23\n",
            "14/23\n",
            "15/23\n",
            "16/23\n",
            "17/23\n",
            "18/23\n",
            "19/23\n",
            "20/23\n",
            "21/23\n",
            "22/23\n"
          ]
        }
      ],
      "source": [
        "df = pd.DataFrame()\n",
        "total = len(ids)\n",
        "for i, id in enumerate(ids):\n",
        "  df2 = getcomments(id)\n",
        "  df = pd.concat([df, df2])\n",
        "  print(f'{i}/{total}')\n",
        "df.to_csv('comments.csv', index=False)"
      ]
    },
    {
      "cell_type": "code",
      "execution_count": 12,
      "metadata": {},
      "outputs": [],
      "source": [
        "df.to_csv('comments.csv', index=False)"
      ]
    }
  ],
  "metadata": {
    "colab": {
      "authorship_tag": "ABX9TyNniRxCvp5nf6v9FVtuzO38",
      "include_colab_link": true,
      "provenance": []
    },
    "kernelspec": {
      "display_name": "Python 3",
      "name": "python3"
    },
    "language_info": {
      "codemirror_mode": {
        "name": "ipython",
        "version": 3
      },
      "file_extension": ".py",
      "mimetype": "text/x-python",
      "name": "python",
      "nbconvert_exporter": "python",
      "pygments_lexer": "ipython3",
      "version": "3.11.2"
    }
  },
  "nbformat": 4,
  "nbformat_minor": 0
}
